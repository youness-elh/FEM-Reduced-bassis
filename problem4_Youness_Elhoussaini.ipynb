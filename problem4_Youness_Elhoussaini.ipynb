{
 "cells": [
  {
   "cell_type": "markdown",
   "metadata": {
    "id": "sJwYDqC8nLJT"
   },
   "source": [
    "# Problem Set 4: Parabolic Problems"
   ]
  },
  {
   "cell_type": "code",
   "execution_count": 1,
   "metadata": {
    "id": "thZujN1vnDmx"
   },
   "outputs": [],
   "source": [
    "import numpy as np\n",
    "import scipy as sp\n",
    "from scipy.sparse import csc_matrix\n",
    "from scipy.sparse.linalg import spsolve\n",
    "from scipy.io import loadmat\n",
    "import matplotlib.tri as tri\n",
    "import matplotlib.pyplot as plt\n",
    "from time import process_time_ns\n",
    "import random\n",
    "from time import process_time_ns"
   ]
  },
  {
   "cell_type": "markdown",
   "metadata": {},
   "source": [
    "Our problem of interest is the thermal fin discussed in the previous problem sets, but now we consider the time-dependent case. We assume that the thermal fin is initially at zero (non-dimensionalized) temperature and a heat flux is then applied to the root. The output of interest is the average temperature of the fin. We directly consider the truth approximation. To this end, we divide the time interval, $I = [0, t_f ]$, into K subintervals of equal length $\\Delta = \\frac {t_f}{K}$, and define $t_k = k∆t, 0 ≤ k ≤ K$. \n",
    "\n",
    "We shall consider Euler-Backward for the time integration. We also recall the truth finite element approximation space $X ⊂ X^e$ ."
   ]
  },
  {
   "cell_type": "markdown",
   "metadata": {},
   "source": [
    "Our truth problem statement is then: given a parameter $μ ∈ D$, we evaluate the output\n",
    "$$s^k (μ) = l(u^k (μ)), 1 ≤ k ≤ K,$$\n",
    "where the field variable $u^k (μ) ∈ X, 1 ≤ k ≤ K,$ satisfies:\n",
    "$$ m\\big (\\frac {u^k (μ) − u^{k−1} (μ)}{\\Delta t}, v \\big ) + a(u^k (μ), v; μ) = f (v)g(t^k ), \\quad ∀v ∈ X$$\n",
    "\n",
    "with initial condition $u(t_0 ; μ) = u_0 =  0$. Here, the bilinear form a is defined as in Problem Set 1,\n",
    "the linear form f is given by $f (v) = \\int_{Γ_{root}} v$, the linear form l is given by $l(v) = \\int_Ω v$, the bilinear form m is given by:\n",
    "$$m(u,v) = \\int_Ω uv, \\forall u,v \\in X$$\n",
    "and $g(t_k )$ denotes the “control input” at time $t = t_k$. Note that m and l, f are parameter-independent."
   ]
  },
  {
   "cell_type": "markdown",
   "metadata": {},
   "source": [
    "We consider the following special case: We assume that the conductivities of all fins are equivalent\n",
    "and fixed at $k_i = 1, i = 1, ..., 4$, and that the Biot number is allowed to vary between 0.01 and 1. We\n",
    "thus have $μ ≡ Bi ∈ D = [0.01, 1]$. We consider the time interval $I = [0, 10]$ with a discrete timestep\n",
    "$∆t = 0.1$ and thus $K = 100$."
   ]
  },
  {
   "cell_type": "markdown",
   "metadata": {},
   "source": [
    "# Part 1 - Reduced Basis Approximation"
   ]
  },
  {
   "cell_type": "markdown",
   "metadata": {},
   "source": [
    "We first generate a reduced basis approximation by choosing a basis from scratch. To this end, we use $g(t_k ) = δ_{1 k} , 1 ≤ k ≤ 100$ (unit impulse input) and set:\n",
    "$$X_N = span \\{u^1 (0.01), u^5 (0.01), u^{10} (0.01), u^{20}(0.01), u^{30}(0.01), u^5 (0.1), u^{10}(0.1), u^{20} (0.1), u^5 (1), u^{10} (1) \\}$$\n",
    "\n",
    "i.e., our reduced basis space X N is spanned by the solution $u^k(μ)$ at several parameter-time pairs.\n",
    "We then orthonormalize $X_N$ using Gram-Schmidt.\n"
   ]
  },
  {
   "cell_type": "code",
   "execution_count": 26,
   "metadata": {},
   "outputs": [],
   "source": [
    "class RB_PB4:\n",
    "    def __init__(self,N=10,Q=6,triangulation ='medium',dt=0.1,K=100):\n",
    "        self.N = N # RB dimension\n",
    "        self.Q = Q #number of parameters\n",
    "        self.triangulation = triangulation #'coarse', 'medium' or 'fine'\n",
    "        self.dt = dt # time step\n",
    "        self.K = K #number of subintervals\n",
    "        \n",
    "        self.N_cal = None #dimention of FE space\n",
    "        self.Aq_mesh = None # FE matrix stiffness independant of parameters\n",
    "        self.M_mesh = None # FE matrix_mass independant of parameters\n",
    "        self.Fh_mesh = None # FE second term\n",
    "        self.L_mesh = None # metric or the output vector\n",
    "        self.G = np.zeros((self.K,1))\n",
    "        self.G[1] = 1\n",
    "        \n",
    "        self.mu_bar=np.array([1,1,1,1,1, 0.1])\n",
    "        self.A_mu_bar = None #X inner product associated matrix\n",
    "        \n",
    "        '''Load matrices, mus, mu hat and samples'''\n",
    "        self.load_matrices_samples()\n",
    "        \n",
    "        \n",
    "    def load_matrices_samples(self):\n",
    "        '''stiffness matrix'''\n",
    "        A = loadmat('FE_matrix.mat',simplify_cells=True)\n",
    "        self.Aq_mesh=A['FE_matrix'][self.triangulation]['Ahq']\n",
    "        self.Fh_mesh=A['FE_matrix'][self.triangulation]['Fh']\n",
    "        \n",
    "        '''mass matrix'''\n",
    "        M = loadmat('FE_matrix_mass.mat',simplify_cells=True)\n",
    "        self.M_mesh=M['FE_matrix_mass'][self.triangulation]['Mh']\n",
    "        #print(self.Mq_mesh.toarray().shape)\n",
    "\n",
    "        '''grid'''\n",
    "        grids = loadmat('FE_grid.mat',simplify_cells=True)\n",
    "        self.N_cal = grids['FE_grid'][self.triangulation]['nodes']\n",
    "        \n",
    "        '''X inner product associated matrix'''\n",
    "        self.A_mu_bar = self.assembleA(self.mu_bar,self.Aq_mesh)\n",
    "        \n",
    "        '''the output vector'''\n",
    "        self.L_mesh = self.M_mesh@np.ones(self.N_cal)\n",
    "        #print(self.L_mesh)\n",
    "        \n",
    "        '''Orthonomalzed RB'''\n",
    "        self.Z_ort = np.zeros((self.N_cal,self.N))\n",
    "        \n",
    "    def inner_prod_A(self,u,v):\n",
    "        return u.T@self.A_mu_bar@v\n",
    "    \n",
    "    def assembleA(self,mu,Aq):\n",
    "        A=csc_matrix(np.shape(Aq[0]))\n",
    "        for k in range(0,6):\n",
    "            A+=mu[k]*Aq[k]\n",
    "        return A\n",
    "    \n",
    "    def Gram_Schmidt_inplace(self,u,i):\n",
    "        v = u.copy()\n",
    "        \n",
    "        for k in range(i):\n",
    "            v[:,i]-=self.inner_prod_A(u[:,i],u[:,k])*u[:,k]\n",
    "        v[:,i] = v[:,i]/np.sqrt(self.inner_prod_A(v[:,i],v[:,i]))\n",
    "        return v[:,i]\n",
    "\n",
    "    \n",
    "    def single_offline_calculation_RB(self,Bi,k,c,ki=1):        \n",
    "        mu=np.array([ki,ki,ki,ki,1,Bi])\n",
    "        A = self.A_mu_bar\n",
    "        M = self.M_mesh\n",
    "        F = self.Fh_mesh\n",
    "        G = self.G\n",
    "        dt = self.dt\n",
    "        \n",
    "        u= np.zeros(self.N_cal) #initialization\n",
    "        for i in range(1,k):\n",
    "            u = spsolve(M/dt+A, F*G[i] + M@u/dt)#a la place de la decomp LU\n",
    "        self.Z_ort[:,c] = u[:]\n",
    "        \n",
    "    def orthonormalize_RB(self):\n",
    "        for c in range(self.N):\n",
    "            self.Z_ort[:,c] = self.Gram_Schmidt_inplace(self.Z_ort,c)\n",
    "        \n",
    "    def offline_calculation_RB(self):\n",
    "        \n",
    "        BI = [0.01]*5 + [0.1]*3 + [1]*2\n",
    "        K = [1,5,10,20,30,5,10,20,5,10]\n",
    "        c=0\n",
    "        for Bi,k in zip(BI,K):\n",
    "            self.single_offline_calculation_RB(Bi,k,c)\n",
    "            c+=1\n",
    "            \n",
    "    def G_func(self):\n",
    "        t = np.arange(0,K*self.dt,self.dt)\n",
    "        out = 1 - np.cos(t)\n",
    "        \n",
    "    def calculate_outputs(self,Bi):\n",
    "        mu = [1,1,1,1,1,Bi] \n",
    "\n",
    "        G = self.G_func()\n",
    "        dt = self.dt\n",
    "        \n",
    "        '''finit element'''\n",
    "        M = self.M_mesh\n",
    "        F = self.Fh_mesh\n",
    "        A = self.assembleA(mu,self.Aq_mesh)\n",
    "        \n",
    "        self.S = []\n",
    "        for i in range(1,self.K):\n",
    "            u = spsolve(M/dt+A, F*G[i] + M@u/dt)#a la place de la decomp LU\n",
    "            self.S.append(self.L_mesh.T@u)\n",
    "            \n",
    "        '''RB'''\n",
    "        AN = self.Z_ort@A@self.Z_ort\n",
    "        MN = self.Z_ort@self.M_mesh@self.Z_ort\n",
    "        FN = self.Z_ort@self.Fh_mesh\n",
    "        LN = self.Z_ort@self.L_mesh;\n",
    "        \n",
    "        self.SN = []\n",
    "        for i in range(1,self.K):\n",
    "            uN = spsolve(MN/dt+AN, FN*G[i] + MN@uN/dt)#a la place de la decomp LU\n",
    "            self.SN.append(self.L_mesh.T@uN)\n",
    "        \n",
    "        "
   ]
  },
  {
   "cell_type": "code",
   "execution_count": 27,
   "metadata": {},
   "outputs": [
    {
     "name": "stdout",
     "output_type": "stream",
     "text": [
      "[[0.         0.08644676 0.0435844  ... 0.01955536 0.08644676 0.0435844 ]\n",
      " [0.         0.08644233 0.04358541 ... 0.0195561  0.08644233 0.04358541]\n",
      " [0.         0.03013768 0.02721055 ... 0.01522139 0.03013768 0.02721055]\n",
      " ...\n",
      " [0.         0.0816752  0.04319629 ... 0.01969208 0.0816752  0.04319629]\n",
      " [0.         0.08129207 0.04296297 ... 0.01958554 0.08129207 0.04296297]\n",
      " [0.         0.08115907 0.04293544 ... 0.01957949 0.08115907 0.04293544]]\n",
      "[[nan nan nan ... nan nan nan]\n",
      " [nan nan nan ... nan nan nan]\n",
      " [nan nan nan ... nan nan nan]\n",
      " ...\n",
      " [nan nan nan ... nan nan nan]\n",
      " [nan nan nan ... nan nan nan]\n",
      " [nan nan nan ... nan nan nan]]\n"
     ]
    },
    {
     "name": "stderr",
     "output_type": "stream",
     "text": [
      "/home/you/.local/lib/python3.7/site-packages/ipykernel_launcher.py:63: RuntimeWarning: invalid value encountered in true_divide\n"
     ]
    }
   ],
   "source": [
    "def test_PB4():\n",
    "    test = RB_PB4(N=10,Q=6,triangulation ='medium')\n",
    "    test.offline_calculation_RB()\n",
    "    print(test.Z_ort)\n",
    "    test.orthonormalize_RB()\n",
    "    print(test.Z_ort)\n",
    "\n",
    "test_PB4()"
   ]
  },
  {
   "cell_type": "markdown",
   "metadata": {},
   "source": [
    "## Question 1:"
   ]
  },
  {
   "cell_type": "markdown",
   "metadata": {},
   "source": [
    "The following formula was used to build the RB in the class above:"
   ]
  },
  {
   "cell_type": "markdown",
   "metadata": {},
   "source": [
    "$$ m\\big (\\frac {u^k (μ) (μ)}{\\Delta t}, v \\big ) + a(u^k (μ), v; μ) = f (v)g(t^k )+ m\\big (\\frac {u^{k−1} (μ)}{\\Delta t}, v \\big ), \\quad ∀v ∈ X$$\n"
   ]
  },
  {
   "cell_type": "markdown",
   "metadata": {},
   "source": [
    "I did not succeed to find the orthonormalization formula! so the following results are obtained with a non-orthonormalized RB."
   ]
  },
  {
   "cell_type": "markdown",
   "metadata": {},
   "source": [
    "# Part 2 - A Posterior Error Estimation"
   ]
  },
  {
   "cell_type": "markdown",
   "metadata": {},
   "source": [
    "## Question 2:"
   ]
  },
  {
   "cell_type": "code",
   "execution_count": null,
   "metadata": {},
   "outputs": [],
   "source": []
  },
  {
   "cell_type": "code",
   "execution_count": null,
   "metadata": {},
   "outputs": [],
   "source": []
  }
 ],
 "metadata": {
  "colab": {
   "name": "template.ipynb",
   "provenance": []
  },
  "kernelspec": {
   "display_name": "Python 3",
   "language": "python",
   "name": "python3"
  },
  "language_info": {
   "codemirror_mode": {
    "name": "ipython",
    "version": 3
   },
   "file_extension": ".py",
   "mimetype": "text/x-python",
   "name": "python",
   "nbconvert_exporter": "python",
   "pygments_lexer": "ipython3",
   "version": "3.7.6"
  }
 },
 "nbformat": 4,
 "nbformat_minor": 1
}
